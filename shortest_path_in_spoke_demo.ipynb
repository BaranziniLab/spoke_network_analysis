{
 "cells": [
  {
   "cell_type": "code",
   "execution_count": 18,
   "id": "8f5ce3f5",
   "metadata": {},
   "outputs": [],
   "source": [
    "import os\n",
    "import networkx as nx\n",
    "import joblib\n",
    "import pandas as pd\n",
    "from configparser import ConfigParser"
   ]
  },
  {
   "cell_type": "markdown",
   "id": "a17c9c0b",
   "metadata": {},
   "source": [
    "# Custom function"
   ]
  },
  {
   "cell_type": "code",
   "execution_count": 19,
   "id": "9c274caf",
   "metadata": {},
   "outputs": [],
   "source": [
    "def get_shortest_path(graph, source, target):\n",
    "    try:\n",
    "        path_list = nx.shortest_path(graph, source=source, target=target)\n",
    "        path_list_tuples = list(map(lambda x:(path_list[x], path_list[x+1]), range(len(path_list)-1)))\n",
    "    except:\n",
    "        path_list_tuples = []        \n",
    "    return pd.DataFrame(path_list_tuples, columns=['source', 'target'])"
   ]
  },
  {
   "cell_type": "markdown",
   "id": "78f45644",
   "metadata": {},
   "source": [
    "# Getting paths\n",
    "## Make sure to change config.ini file before running this cell"
   ]
  },
  {
   "cell_type": "code",
   "execution_count": 20,
   "id": "448d1f4d",
   "metadata": {},
   "outputs": [],
   "source": [
    "config_path = \"config.ini\"\n",
    "parser = ConfigParser()\n",
    "parser.read(config_path)\n",
    "c = dict(parser.items('data'))\n",
    "data_folder = c[\"data_folder\"]\n",
    "\n",
    "spoke_graph_path = os.path.join(data_folder, \"spoke_v2_networkx_graph_with_edge_attribute.joblib\")"
   ]
  },
  {
   "cell_type": "code",
   "execution_count": 21,
   "id": "8de332d7",
   "metadata": {},
   "outputs": [
    {
     "name": "stdout",
     "output_type": "stream",
     "text": [
      "Loading graph ...\n"
     ]
    }
   ],
   "source": [
    "print('Loading graph ...')\n",
    "spoke = joblib.load(spoke_graph_path)"
   ]
  },
  {
   "cell_type": "markdown",
   "id": "62bb707d",
   "metadata": {},
   "source": [
    "# Find the shortest path between nodes: \n",
    "# \"Tremor\" (spoke_id=D014202) and \"Parkinson's Disease\" (spoke_id=DOID:14330)\n"
   ]
  },
  {
   "cell_type": "code",
   "execution_count": 22,
   "id": "5e566c62",
   "metadata": {},
   "outputs": [
    {
     "data": {
      "text/html": [
       "<div>\n",
       "<style scoped>\n",
       "    .dataframe tbody tr th:only-of-type {\n",
       "        vertical-align: middle;\n",
       "    }\n",
       "\n",
       "    .dataframe tbody tr th {\n",
       "        vertical-align: top;\n",
       "    }\n",
       "\n",
       "    .dataframe thead th {\n",
       "        text-align: right;\n",
       "    }\n",
       "</style>\n",
       "<table border=\"1\" class=\"dataframe\">\n",
       "  <thead>\n",
       "    <tr style=\"text-align: right;\">\n",
       "      <th></th>\n",
       "      <th>source</th>\n",
       "      <th>target</th>\n",
       "    </tr>\n",
       "  </thead>\n",
       "  <tbody>\n",
       "    <tr>\n",
       "      <th>0</th>\n",
       "      <td>D014202</td>\n",
       "      <td>DOID:14330</td>\n",
       "    </tr>\n",
       "  </tbody>\n",
       "</table>\n",
       "</div>"
      ],
      "text/plain": [
       "    source      target\n",
       "0  D014202  DOID:14330"
      ]
     },
     "execution_count": 22,
     "metadata": {},
     "output_type": "execute_result"
    }
   ],
   "source": [
    "source = \"D014202\"\n",
    "target = \"DOID:14330\"\n",
    "shortest_path = get_shortest_path(spoke, source, target)\n",
    "shortest_path"
   ]
  },
  {
   "cell_type": "markdown",
   "id": "ca196ba0",
   "metadata": {},
   "source": [
    "# Find the shortest path between nodes: \n",
    "# \"Vitamin C\" (spoke_id=DB00126) and \"Parkinson's Disease\" (spoke_id=DOID:14330)\n"
   ]
  },
  {
   "cell_type": "code",
   "execution_count": 27,
   "id": "8d6fef5a",
   "metadata": {},
   "outputs": [
    {
     "data": {
      "text/html": [
       "<div>\n",
       "<style scoped>\n",
       "    .dataframe tbody tr th:only-of-type {\n",
       "        vertical-align: middle;\n",
       "    }\n",
       "\n",
       "    .dataframe tbody tr th {\n",
       "        vertical-align: top;\n",
       "    }\n",
       "\n",
       "    .dataframe thead th {\n",
       "        text-align: right;\n",
       "    }\n",
       "</style>\n",
       "<table border=\"1\" class=\"dataframe\">\n",
       "  <thead>\n",
       "    <tr style=\"text-align: right;\">\n",
       "      <th></th>\n",
       "      <th>source</th>\n",
       "      <th>target</th>\n",
       "    </tr>\n",
       "  </thead>\n",
       "  <tbody>\n",
       "    <tr>\n",
       "      <th>0</th>\n",
       "      <td>DB00126</td>\n",
       "      <td>DOID:2089</td>\n",
       "    </tr>\n",
       "    <tr>\n",
       "      <th>1</th>\n",
       "      <td>DOID:2089</td>\n",
       "      <td>DOID:14330</td>\n",
       "    </tr>\n",
       "  </tbody>\n",
       "</table>\n",
       "</div>"
      ],
      "text/plain": [
       "      source      target\n",
       "0    DB00126   DOID:2089\n",
       "1  DOID:2089  DOID:14330"
      ]
     },
     "execution_count": 27,
     "metadata": {},
     "output_type": "execute_result"
    }
   ],
   "source": [
    "source = \"DB00126\"\n",
    "target = \"DOID:14330\"\n",
    "shortest_path = get_shortest_path(spoke, source, target)\n",
    "shortest_path"
   ]
  },
  {
   "cell_type": "code",
   "execution_count": null,
   "id": "11261d70",
   "metadata": {},
   "outputs": [],
   "source": []
  }
 ],
 "metadata": {
  "kernelspec": {
   "display_name": "Python 3",
   "language": "python",
   "name": "python3"
  },
  "language_info": {
   "codemirror_mode": {
    "name": "ipython",
    "version": 3
   },
   "file_extension": ".py",
   "mimetype": "text/x-python",
   "name": "python",
   "nbconvert_exporter": "python",
   "pygments_lexer": "ipython3",
   "version": "3.6.9"
  }
 },
 "nbformat": 4,
 "nbformat_minor": 5
}
